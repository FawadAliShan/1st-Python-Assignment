{
 "cells": [
  {
   "cell_type": "code",
   "execution_count": null,
   "id": "404ec02b",
   "metadata": {},
   "outputs": [],
   "source": [
    "# Get user input for 'a' and 'b'\n",
    "a = float(input(\"Enter a: \"))\n",
    "b = float(input(\"Enter b: \"))\n",
    "\n",
    "# Get the operator from the user\n",
    "opr = input(\"Input the operator: \")\n",
    "print(\"The operator is \" + opr)\n",
    "\n",
    "# Perform the operation based on the operator\n",
    "if opr == '+':\n",
    "    print(a + b)\n",
    "elif opr == '-':\n",
    "    print(a - b)\n",
    "elif opr == '/':\n",
    "    if b == 0:\n",
    "        print(\"Division by zero is not allowed.\")\n",
    "    else:\n",
    "        print(a / b)\n",
    "elif opr == '*':\n",
    "    print(a * b)\n",
    "elif opr == '%':\n",
    "    print(a % b)\n",
    "else:\n",
    "    print(\"You entered an invalid operator.\")"
   ]
  }
 ],
 "metadata": {
  "kernelspec": {
   "display_name": "Python 3 (ipykernel)",
   "language": "python",
   "name": "python3"
  },
  "language_info": {
   "codemirror_mode": {
    "name": "ipython",
    "version": 3
   },
   "file_extension": ".py",
   "mimetype": "text/x-python",
   "name": "python",
   "nbconvert_exporter": "python",
   "pygments_lexer": "ipython3",
   "version": "3.11.3"
  }
 },
 "nbformat": 4,
 "nbformat_minor": 5
}
