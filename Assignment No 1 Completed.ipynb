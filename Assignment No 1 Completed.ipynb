{
 "cells": [
  {
   "cell_type": "code",
   "execution_count": 11,
   "id": "53336246",
   "metadata": {},
   "outputs": [
    {
     "name": "stdout",
     "output_type": "stream",
     "text": [
      "Enter a 4\n",
      "Enter b 7\n",
      "Input the operator%\n",
      "The opr is %\n",
      "4.0\n"
     ]
    }
   ],
   "source": [
    "a=input(\"Enter a \")\n",
    "b=input(\"Enter b \")\n",
    "\n",
    "a = float(a)\n",
    "b = float(b)\n",
    "\n",
    "opr=input(\"Input the operator\")\n",
    "print(\"The opr is \" + opr)\n",
    "if opr== '+':\n",
    " print(a+b)\n",
    "elif opr== '-':\n",
    " print(a-b)\n",
    "elif opr== '/':\n",
    " print(a/b)\n",
    "elif opr== '*':\n",
    " print(a*b)\n",
    "elif opr== '%':\n",
    " print(a%b)\n",
    "else:\n",
    " print(\"You entered invalid number\")"
   ]
  },
  {
   "cell_type": "code",
   "execution_count": null,
   "id": "abf2e334",
   "metadata": {},
   "outputs": [],
   "source": []
  },
  {
   "cell_type": "code",
   "execution_count": null,
   "id": "6e2a9f53",
   "metadata": {},
   "outputs": [],
   "source": []
  }
 ],
 "metadata": {
  "kernelspec": {
   "display_name": "Python 3 (ipykernel)",
   "language": "python",
   "name": "python3"
  },
  "language_info": {
   "codemirror_mode": {
    "name": "ipython",
    "version": 3
   },
   "file_extension": ".py",
   "mimetype": "text/x-python",
   "name": "python",
   "nbconvert_exporter": "python",
   "pygments_lexer": "ipython3",
   "version": "3.11.3"
  }
 },
 "nbformat": 4,
 "nbformat_minor": 5
}
